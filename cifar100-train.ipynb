{
 "cells": [
  {
   "cell_type": "code",
   "execution_count": null,
   "metadata": {},
   "outputs": [],
   "source": [
    "from model import SearchCifarNet\n",
    "import torch\n",
    "\n",
    "device = torch.device('cuda')\n",
    "\n",
    "model = SearchCifarNet(n_classes=100, width_mult=1.0).to(device)\n",
    "model.init_model()"
   ]
  },
  {
   "cell_type": "code",
   "execution_count": null,
   "metadata": {},
   "outputs": [],
   "source": [
    "from putils import LabelSmoothingLoss, accuracy, get_parameters\n",
    "\n",
    "momentum, nesterov = 0.9, True\n",
    "optimizer = torch.optim.SGD(get_parameters(model), lr=0.05, momentum=momentum, nesterov=nesterov, weight_decay=4e-5)\n",
    "loss_module = torch.nn.CrossEntropyLoss()"
   ]
  },
  {
   "cell_type": "code",
   "execution_count": null,
   "metadata": {},
   "outputs": [],
   "source": [
    "from nni.retiarii.oneshot.pytorch import ProxylessTrainer\n",
    "from torchvision import transforms\n",
    "from torchvision.datasets import CIFAR100\n",
    "dataset = CIFAR100(root='./cifar100', train=True, download=True, transform=transforms.Compose([\n",
    "    transforms.RandomHorizontalFlip(),\n",
    "    transforms.ToTensor()\n",
    "]))\n",
    "\n",
    "train_loader = torch.utils.data.DataLoader(dataset, batch_size=256, num_workers=16)"
   ]
  },
  {
   "cell_type": "code",
   "execution_count": 4,
   "metadata": {},
   "outputs": [],
   "source": [
    "from nni.retiarii.oneshot.pytorch.utils import AverageMeterGroup\n",
    "from tqdm.auto import tqdm\n",
    "model.train()\n",
    "\n",
    "meters = AverageMeterGroup()\n",
    "metrics_fn = lambda output, target: accuracy(output, target, topk=(1, 5,))\n",
    "\n",
    "num_epochs = 100\n",
    "for epoch in range(num_epochs):\n",
    "    tr = tqdm(enumerate(train_loader))\n",
    "    for step, (X_train, y_train) in tr:\n",
    "        X_train = X_train.to(device)\n",
    "        y_train = y_train.to(device)\n",
    "        optimizer.zero_grad()\n",
    "        logits = model(X_train)\n",
    "        loss = loss_module(logits, y_train)\n",
    "        loss.backward()\n",
    "        optimizer.step()\n",
    "        \n",
    "        metrics = metrics_fn(logits, y_train)\n",
    "        metrics['loss'] = loss.item()\n",
    "        meters.update(metrics)\n",
    "        \n",
    "        if step % 50 == 0:\n",
    "            tr.set_description(\"Epoch [%s/%s] Step [%s/%s]  %s\" % (epoch + 1,\n",
    "                                    num_epochs, step + 1, len(train_loader), meters))"
   ]
  }
 ],
 "metadata": {
  "interpreter": {
   "hash": "5e5aeaabee6b603969081194690bba2f8b4ce4b8b67c5ec86418d7b59cb169a0"
  },
  "kernelspec": {
   "display_name": "Python 3.9.7 ('nni')",
   "language": "python",
   "name": "python3"
  },
  "language_info": {
   "codemirror_mode": {
    "name": "ipython",
    "version": 3
   },
   "file_extension": ".py",
   "mimetype": "text/x-python",
   "name": "python",
   "nbconvert_exporter": "python",
   "pygments_lexer": "ipython3",
   "version": "3.9.7"
  },
  "orig_nbformat": 4
 },
 "nbformat": 4,
 "nbformat_minor": 2
}
